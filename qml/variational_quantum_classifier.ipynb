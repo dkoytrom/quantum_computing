{
 "cells": [
  {
   "cell_type": "markdown",
   "metadata": {},
   "source": [
    "# Variational quantum classifier"
   ]
  },
  {
   "cell_type": "markdown",
   "metadata": {},
   "source": [
    "1. Create dataset training and testing data points with 2 features"
   ]
  },
  {
   "cell_type": "code",
   "execution_count": 1,
   "metadata": {},
   "outputs": [],
   "source": [
    "from qiskit.utils import algorithm_globals\n",
    "import numpy as np\n",
    "from qiskit_machine_learning.datasets import ad_hoc_data\n",
    "\n",
    "algorithm_globals.random_seed = 3142\n",
    "\n",
    "np.random.seed(algorithm_globals.random_seed)\n",
    "\n",
    "# then get training and test data from qiskit_machine_learning datasets\n",
    "train_data, train_labels, test_data, test_labels = ad_hoc_data(training_size = 20, test_size = 5, n = 2, gap = 0.3, one_hot = False)"
   ]
  },
  {
   "cell_type": "markdown",
   "metadata": {},
   "source": [
    "2. Create a classifier, use the Qiskit ZZFeatureMap as the encoding circuit and the Qiskit TwoLocal circuit as the variational circuit"
   ]
  },
  {
   "cell_type": "code",
   "execution_count": 6,
   "metadata": {},
   "outputs": [
    {
     "data": {
      "image/png": "[encoded data removed]",
      "text/plain": [
       "<Figure size 779.079x204.68 with 1 Axes>"
      ]
     },
     "execution_count": 6,
     "metadata": {},
     "output_type": "execute_result"
    }
   ],
   "source": [
    "from qiskit.circuit.library import ZZFeatureMap, TwoLocal\n",
    "import matplotlib as plt\n",
    "\n",
    "feature_map = ZZFeatureMap(feature_dimension = 2, reps = 2, name = 'E(x)')\n",
    "var_circuit = TwoLocal(2, ['ry', 'rz'], 'cz', reps = 2, name = 'U(x)')\n",
    "\n",
    "total_circuit = feature_map.compose(var_circuit)\n",
    "total_circuit.measure_all()\n",
    "\n",
    "%matplotlib inline\n",
    "total_circuit.draw('mpl')"
   ]
  },
  {
   "cell_type": "markdown",
   "metadata": {},
   "source": [
    "3. Function to encode data into the feature map and the variational parameters to the variational circuit"
   ]
  },
  {
   "cell_type": "code",
   "execution_count": 19,
   "metadata": {},
   "outputs": [],
   "source": [
    "def circuit_parameters(data, variational) :\n",
    "    parameters = {}\n",
    "\n",
    "    for i, p in enumerate(feature_map.ordered_parameters):\n",
    "        parameters[p] = data[i]\n",
    "\n",
    "    for i, p in enumerate(var_circuit.ordered_parameters):\n",
    "        parameters[p] = variational[i]\n",
    "\n",
    "    return parameters"
   ]
  },
  {
   "cell_type": "markdown",
   "metadata": {},
   "source": [
    "4. Create a label assign function to calculate label, which is this case is the parity of the bitstring\n",
    "* if parity is even, label is 1, else label is 0"
   ]
  },
  {
   "cell_type": "code",
   "execution_count": 20,
   "metadata": {},
   "outputs": [],
   "source": [
    "def assign_label(bitstring):\n",
    "    hamming_weight = sum([int(k) for k in list(bitstring)])\n",
    "\n",
    "    odd = hamming_weight & 1\n",
    "    \n",
    "    if odd:\n",
    "        return 0\n",
    "    else:\n",
    "        return 1"
   ]
  },
  {
   "cell_type": "markdown",
   "metadata": {},
   "source": [
    "5. Create a function that returns the probability distribution over the label classes"
   ]
  },
  {
   "cell_type": "code",
   "execution_count": 21,
   "metadata": {},
   "outputs": [],
   "source": [
    "def probability_distribution(results):\n",
    "    shots = sum(results.values())\n",
    "\n",
    "    probabilities = {\n",
    "        0: 0, \n",
    "        1: 0\n",
    "    }\n",
    "\n",
    "    for bitstring, counts in results.items():\n",
    "        label = assign_label(bitstring)\n",
    "        probabilities[label] += counts / shots\n",
    "\n",
    "    return probabilities\n"
   ]
  },
  {
   "cell_type": "markdown",
   "metadata": {},
   "source": [
    "6. Function that classifies the data, for all data points assign parameters to both sub routines, evolve the system and store the circuit for running at once at the end and return probability distribution"
   ]
  },
  {
   "cell_type": "code",
   "execution_count": 22,
   "metadata": {},
   "outputs": [],
   "source": [
    "from qiskit import BasicAer, execute\n",
    "\n",
    "def classification_probability(data, variational):\n",
    "    circuits = [total_circuit.assign_parameters(circuit_parameters(d, variational)) for d in data]\n",
    "\n",
    "    backend = BasicAer.get_backend('qasm_simulator')\n",
    "    results = execute(circuits, backend).result()\n",
    "\n",
    "    classification = [probability_distribution(results.get_counts(c)) for c in circuits]\n",
    "\n",
    "    return classification"
   ]
  },
  {
   "cell_type": "markdown",
   "metadata": {},
   "source": [
    "7. For the training we need the list and cost functions\n",
    "\n",
    "* For the loss function we use herer the so called Cross-entropy loss, which is used for classification models, here in the context of discrete probability distributions (https://en.m.wikipedia.org/wiki/Cross_entropy)\n",
    "\n",
    "$$H(p) = - \\sum p(x) log(q(x))$$\n",
    "\n",
    "where p(x) in the current context is the probability of one distribution and q(x) is the probability of the other distribution"
   ]
  },
  {
   "cell_type": "code",
   "execution_count": 23,
   "metadata": {},
   "outputs": [],
   "source": [
    "def cross_entropy_loss(predictions, expected):\n",
    "    p = predictions.get(expected)\n",
    "    \n",
    "    return -(expected * np.log(p) + (1 - expected) * np.log(1 - p))\n",
    "   \n",
    "def cost_function(data, labels, variational):\n",
    "    classifications = classification_probability(data, variational)\n",
    "\n",
    "    cost = 0\n",
    "    \n",
    "    for i, classification in enumerate(classifications):\n",
    "        cost += cross_entropy_loss(classification, labels[i])\n",
    "    cost /= len(data)\n",
    "\n",
    "    return cost"
   ]
  },
  {
   "cell_type": "markdown",
   "metadata": {},
   "source": [
    "8. Use the classical optimisation with SPSA"
   ]
  },
  {
   "cell_type": "code",
   "execution_count": 25,
   "metadata": {},
   "outputs": [],
   "source": [
    "from qiskit.algorithms.optimizers import SPSA\n",
    "\n",
    "evaluations = []\n",
    "parameters = []\n",
    "costs = []\n",
    "\n",
    "def opt_callback_function(eval, parameter, cost, stepsize, accepted):\n",
    "    evaluations.append(eval)\n",
    "    parameters.append(parameter)\n",
    "    costs.append(cost)\n",
    "\n",
    "optimizer = SPSA(maxiter = 100, callback = opt_callback_function)\n",
    "\n",
    "# we put hardcoded some initial point\n",
    "initial_point = np.array([\n",
    "    3.28559355, 5.48514978, 5.13099949,\n",
    "    0.88372228, 4.08885928, 2.45568528,\n",
    "    4.92364593, 5.59032015, 3.66837805,\n",
    "    4.84632313, 3.60713748, 2.43546\n",
    "])\n",
    "\n",
    "# continue with the optimisation\n",
    "objective_function = lambda variational: cost_function(train_data,  train_labels, variational)\n",
    "\n",
    "opt_var, opt_value, _ = optimizer.optimize(len(initial_point), objective_function = objective_function, initial_point = initial_point)"
   ]
  },
  {
   "cell_type": "code",
   "execution_count": 31,
   "metadata": {},
   "outputs": [
    {
     "data": {
      "image/png": "[encoded data removed]",
      "text/plain": [
       "<Figure size 432x288 with 1 Axes>"
      ]
     },
     "metadata": {
      "needs_background": "light"
     },
     "output_type": "display_data"
    }
   ],
   "source": [
    "# Finally plot the results\n",
    "import matplotlib.pyplot as plt\n",
    "\n",
    "fig = plt.figure()\n",
    "plt.plot(evaluations, costs)\n",
    "plt.xlabel('Steps')\n",
    "plt.ylabel('Cost')\n",
    "plt.show()"
   ]
  },
  {
   "cell_type": "markdown",
   "metadata": {},
   "source": [
    "9. We need to check the score of our classifier and test in with the test data"
   ]
  },
  {
   "cell_type": "code",
   "execution_count": 33,
   "metadata": {},
   "outputs": [
    {
     "data": {
      "text/plain": [
       "0.4"
      ]
     },
     "execution_count": 33,
     "metadata": {},
     "output_type": "execute_result"
    }
   ],
   "source": [
    "def score_classifier(data, labels, variational):\n",
    "    probability = classification_probability(data, variational)\n",
    "\n",
    "    prediction = [0 if p[0] >= p[1] else 1 for p in probability]\n",
    "    \n",
    "    accuracy = 0\n",
    "    for i, p in enumerate(probability):\n",
    "        if (p[0] >= p[1]) and (labels[i] == 0):\n",
    "            accuracy += 1\n",
    "        elif (p[1]) >= p[0] and (labels[i] == 1):\n",
    "            accuracy += 1\n",
    "    accuracy /= len(labels)\n",
    "    return accuracy, prediction\n",
    "\n",
    "accuracy, prediction = score_classifier(test_data, test_labels, opt_var)\n",
    "accuracy"
   ]
  },
  {
   "cell_type": "code",
   "execution_count": 35,
   "metadata": {},
   "outputs": [
    {
     "data": {
      "image/png": "[encoded data removed]",
      "text/plain": [
       "<Figure size 648x432 with 1 Axes>"
      ]
     },
     "metadata": {
      "needs_background": "light"
     },
     "output_type": "display_data"
    }
   ],
   "source": [
    "from matplotlib.lines import Line2D\n",
    "plt.figure(figsize=(9, 6))\n",
    "\n",
    "for feature, label in zip(train_data, train_labels):\n",
    "    marker = 'o' \n",
    "\n",
    "    color = 'C0' if label == 0 else 'C1'\n",
    "\n",
    "    plt.scatter(feature[0], feature[1], marker = marker, s = 100, color = color)\n",
    "    \n",
    "for feature, label, pred in zip(test_data, test_labels, prediction):\n",
    "    marker = 's' \n",
    "    color = 'C0' if pred == 0 else 'C1'\n",
    "\n",
    "    plt.scatter(feature[0], feature[1], marker = marker, s = 100, color = color)\n",
    "\n",
    "    if label != pred:  # mark wrongly classified\n",
    "        plt.scatter(feature[0], feature[1], marker = 'o', s = 500, linewidths = 2.5, facecolor = 'none', edgecolor = 'C3')\n",
    "\n",
    "legend_elements = [\n",
    "    Line2D([0], [0], marker = 'o', c = 'w', mfc = 'C0', label = 'A', ms=10),\n",
    "    Line2D([0], [0], marker = 'o', c = 'w', mfc = 'C0', label = 'B', ms=10),\n",
    "    Line2D([0], [0], marker = 's', c = 'w', mfc = 'C1', label = 'predict A', ms = 10),\n",
    "    Line2D([0], [0], marker = 's', c='w', mfc='C0', label = 'predict B', ms = 10),\n",
    "    Line2D([0], [0], marker = 'o', c = 'w', mfc = 'none', mec = 'C3', label = 'wrongly classified', mew = 2, ms = 15)\n",
    "]\n",
    "\n",
    "plt.legend(handles=legend_elements, bbox_to_anchor = (1, 1), loc = 'upper left')\n",
    "    \n",
    "plt.title('Training & Test Data')\n",
    "plt.xlabel('x')\n",
    "plt.ylabel('y')\n",
    "plt.show()"
   ]
  }
 ],
 "metadata": {
  "interpreter": {
   "hash": "e7370f93d1d0cde622a1f8e1c04877d8463912d04d973331ad4851f04de6915a"
  },
  "kernelspec": {
   "display_name": "Python 3.10.3 64-bit",
   "language": "python",
   "name": "python3"
  },
  "language_info": {
   "codemirror_mode": {
    "name": "ipython",
    "version": 3
   },
   "file_extension": ".py",
   "mimetype": "text/x-python",
   "name": "python",
   "nbconvert_exporter": "python",
   "pygments_lexer": "ipython3",
   "version": "3.10.5"
  },
  "orig_nbformat": 4
 },
 "nbformat": 4,
 "nbformat_minor": 2
}
