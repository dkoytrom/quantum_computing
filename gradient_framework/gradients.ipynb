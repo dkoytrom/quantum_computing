{
 "cells": [
  {
   "cell_type": "markdown",
   "metadata": {},
   "source": [
    "## Qiskit Gradient Framework\n",
    "\n",
    "1. Import necessary libraries and classes"
   ]
  },
  {
   "cell_type": "code",
   "execution_count": 7,
   "metadata": {},
   "outputs": [],
   "source": [
    "# imports numpy and matplotlib\n",
    "import numpy as np\n",
    "import matplotlib as plt\n",
    "\n",
    "# import operators\n",
    "from qiskit.opflow import Z, X, I, StateFn, CircuitStateFn, SummedOp\n",
    "from qiskit.opflow.gradients import Gradient, NaturalGradient, QFI, Hessian\n",
    "\n",
    "# circuit imports\n",
    "from qiskit.circuit import QuantumCircuit, QuantumRegister, Parameter, ParameterVector, ParameterExpression\n",
    "\n",
    "# import effecient SU2 parametrized circuit from library\n",
    "from qiskit.circuit.library import EfficientSU2"
   ]
  },
  {
   "cell_type": "markdown",
   "metadata": {},
   "source": [
    "2. First order gradients\n",
    "\n",
    "* With respect to Measurement operator parameters"
   ]
  },
  {
   "cell_type": "code",
   "execution_count": 8,
   "metadata": {},
   "outputs": [
    {
     "data": {
      "image/png": "[encoded data removed]",
      "text/plain": [
       "<Figure size 280.323x84.28 with 1 Axes>"
      ]
     },
     "execution_count": 8,
     "metadata": {},
     "output_type": "execute_result"
    }
   ],
   "source": [
    "# create the parameters of the circuit\n",
    "param_a = Parameter('a')\n",
    "param_b = Parameter('b')\n",
    "\n",
    "#  create the circuit\n",
    "quantum_register = QuantumRegister(1) # 1 qubit\n",
    "circuit = QuantumCircuit(quantum_register)\n",
    "\n",
    "# apply the hadamard gate and the qubit rotations using parameters as the angles of rotation\n",
    "circuit.h(quantum_register)\n",
    "circuit.rz(param_a, 0)\n",
    "circuit.rx(param_b, 0)\n",
    "\n",
    "%matplotlib inline\n",
    "circuit.draw('mpl')"
   ]
  },
  {
   "cell_type": "code",
   "execution_count": 9,
   "metadata": {},
   "outputs": [
    {
     "name": "stdout",
     "output_type": "stream",
     "text": [
      "ComposedOp([\n",
      "  OperatorMeasurement(2.0 * X\n",
      "  + 1.0 * Z),\n",
      "  CircuitStateFn(\n",
      "       ┌───┐┌───────┐┌───────┐\n",
      "  q41: ┤ H ├┤ Rz(a) ├┤ Rx(b) ├\n",
      "       └───┘└───────┘└───────┘\n",
      "  )\n",
      "])\n"
     ]
    }
   ],
   "source": [
    "# initialize the Hamiltonian operator / observable\n",
    "H = 2 * X + Z\n",
    "\n",
    "operator = ~StateFn(H) @ CircuitStateFn(circuit, coeff = 1.)\n",
    "\n",
    "print(operator)"
   ]
  },
  {
   "cell_type": "code",
   "execution_count": 10,
   "metadata": {},
   "outputs": [
    {
     "name": "stdout",
     "output_type": "stream",
     "text": [
      "ListOp([\n",
      "  SummedOp([\n",
      "    ComposedOp([\n",
      "      OperatorMeasurement(Z),\n",
      "      CircuitStateFn(\n",
      "           ┌───┐┌─────────────┐┌───────┐┌───┐\n",
      "      q41: ┤ H ├┤ Rz(a + π/2) ├┤ Rx(b) ├┤ H ├\n",
      "           └───┘└─────────────┘└───────┘└───┘\n",
      "      )\n",
      "    ]),\n",
      "    -1.0 * ComposedOp([\n",
      "      OperatorMeasurement(Z),\n",
      "      CircuitStateFn(\n",
      "           ┌───┐┌─────────────┐┌───────┐┌───┐\n",
      "      q41: ┤ H ├┤ Rz(a - π/2) ├┤ Rx(b) ├┤ H ├\n",
      "           └───┘└─────────────┘└───────┘└───┘\n",
      "      )\n",
      "    ]),\n",
      "    0.5 * ComposedOp([\n",
      "      OperatorMeasurement(Z),\n",
      "      CircuitStateFn(\n",
      "           ┌───┐┌─────────────┐┌───────┐\n",
      "      q41: ┤ H ├┤ Rz(a + π/2) ├┤ Rx(b) ├\n",
      "           └───┘└─────────────┘└───────┘\n",
      "      )\n",
      "    ]),\n",
      "    -0.5 * ComposedOp([\n",
      "      OperatorMeasurement(Z),\n",
      "      CircuitStateFn(\n",
      "           ┌───┐┌─────────────┐┌───────┐\n",
      "      q41: ┤ H ├┤ Rz(a - π/2) ├┤ Rx(b) ├\n",
      "           └───┘└─────────────┘└───────┘\n",
      "      )\n",
      "    ])\n",
      "  ]),\n",
      "  SummedOp([\n",
      "    ComposedOp([\n",
      "      OperatorMeasurement(Z),\n",
      "      CircuitStateFn(\n",
      "           ┌───┐┌───────┐┌─────────────┐┌───┐\n",
      "      q41: ┤ H ├┤ Rz(a) ├┤ Rx(b + π/2) ├┤ H ├\n",
      "           └───┘└───────┘└─────────────┘└───┘\n",
      "      )\n",
      "    ]),\n",
      "    -1.0 * ComposedOp([\n",
      "      OperatorMeasurement(Z),\n",
      "      CircuitStateFn(\n",
      "           ┌───┐┌───────┐┌─────────────┐┌───┐\n",
      "      q41: ┤ H ├┤ Rz(a) ├┤ Rx(b - π/2) ├┤ H ├\n",
      "           └───┘└───────┘└─────────────┘└───┘\n",
      "      )\n",
      "    ]),\n",
      "    0.5 * ComposedOp([\n",
      "      OperatorMeasurement(Z),\n",
      "      CircuitStateFn(\n",
      "           ┌───┐┌───────┐┌─────────────┐\n",
      "      q41: ┤ H ├┤ Rz(a) ├┤ Rx(b + π/2) ├\n",
      "           └───┘└───────┘└─────────────┘\n",
      "      )\n",
      "    ]),\n",
      "    -0.5 * ComposedOp([\n",
      "      OperatorMeasurement(Z),\n",
      "      CircuitStateFn(\n",
      "           ┌───┐┌───────┐┌─────────────┐\n",
      "      q41: ┤ H ├┤ Rz(a) ├┤ Rx(b - π/2) ├\n",
      "           └───┘└───────┘└─────────────┘\n",
      "      )\n",
      "    ])\n",
      "  ])\n",
      "])\n"
     ]
    }
   ],
   "source": [
    "params = [param_a, param_b]\n",
    "\n",
    "# add some initial values to the parameters\n",
    "values = {param_a: np.pi / 4, param_b: np.pi}\n",
    "\n",
    "# create the gradient\n",
    "grad = Gradient().convert(operator = operator, params = params)\n",
    "\n",
    "print(grad)"
   ]
  },
  {
   "cell_type": "code",
   "execution_count": 11,
   "metadata": {},
   "outputs": [
    {
     "name": "stdout",
     "output_type": "stream",
     "text": [
      "Gradient [(-1.414213562373094+0j), (-0.7071067811865474+0j)]\n"
     ]
    }
   ],
   "source": [
    "# then assign the parameters and get the gradient\n",
    "grad_result = grad.assign_parameters(values).eval()\n",
    "\n",
    "print('Gradient', grad_result)"
   ]
  }
 ],
 "metadata": {
  "interpreter": {
   "hash": "e7370f93d1d0cde622a1f8e1c04877d8463912d04d973331ad4851f04de6915a"
  },
  "kernelspec": {
   "display_name": "Python 3.10.3 64-bit",
   "language": "python",
   "name": "python3"
  },
  "language_info": {
   "codemirror_mode": {
    "name": "ipython",
    "version": 3
   },
   "file_extension": ".py",
   "mimetype": "text/x-python",
   "name": "python",
   "nbconvert_exporter": "python",
   "pygments_lexer": "ipython3",
   "version": "3.10.4"
  },
  "orig_nbformat": 4
 },
 "nbformat": 4,
 "nbformat_minor": 2
}
