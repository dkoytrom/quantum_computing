{
 "cells": [
  {
   "cell_type": "markdown",
   "metadata": {},
   "source": [
    "# Variational Quantum Eigensolver\n",
    "\n",
    "The algorithm employs a variational quantum circuit to find the smallest eigenvalue of an operator (e.g. The hamiltonian of the system trying to simulate). \n",
    "In case the simulated system is a molecule, then the smallest eigenvalue of the Hamiltonian operator is the ground state energy of the quantum system\n",
    "\n",
    "Let $\\psi(\\theta)$ be the quantum state produced by the variational circuit. The classical optimization tries to minimize the the expectation value of the Hamiltonial operator (as cost function)\n",
    "\n",
    "$ \\lambda_{min} \\le \\lambda_{\\theta} = <\\psi(\\theta),H\\psi(\\theta)> $\n",
    "\n",
    "In the case of VQE, the optimization chois will be the SPSA (Simultaneous Perturbation Stochastic Approximation optimizer) which is less consuming in computational terms and more preferable for NISQ era devices. Also in case of simulation (or fault tollerant devices when they will be available) where there is no noise in the system, one can try other classical optimizers (e.g. Sequential Least Squares Programming optimizer (SLSQP) and the Constrained Optimization by Linear Approximation optimizer (COBYLA))."
   ]
  },
  {
   "cell_type": "code",
   "execution_count": 91,
   "metadata": {},
   "outputs": [],
   "source": [
    "import numpy as np\n",
    "from qiskit import QuantumCircuit, execute\n",
    "from qiskit.visualization import plot_histogram"
   ]
  },
  {
   "cell_type": "code",
   "execution_count": 92,
   "metadata": {},
   "outputs": [],
   "source": [
    "from qiskit.circuit.library import EfficientSU2\n",
    "from qiskit import Aer"
   ]
  },
  {
   "cell_type": "code",
   "execution_count": 93,
   "metadata": {},
   "outputs": [],
   "source": [
    "simulator = simulator = Aer.get_backend('qasm_simulator')\n",
    "\n",
    "np.random.seed(999999)\n",
    "target_vec = np.random.rand(2)\n",
    "target_vec /= sum(target_vec)\n",
    "\n",
    "def get_variation_circuit(params) :\n",
    "    circuit = QuantumCircuit(1, 1)\n",
    "\n",
    "    circuit.u3(params[0], params[1], params[2], 0)\n",
    "    circuit.measure(0, 0)\n",
    "\n",
    "    return circuit\n",
    "\n",
    "def cost_function(params): \n",
    "    circuit = get_variation_circuit(params)\n",
    "\n",
    "    result = execute(circuit, backend = simulator, shots = 1000).result()\n",
    "\n",
    "    # get the probabilities from the shots\n",
    "    probabilities = [value / 1000 for value in result.get_counts(circuit).values()]\n",
    "\n",
    "    cost = 0\n",
    "\n",
    "    cost = sum([np.abs(probabilities[i]) - target_vec[i] for i in range(2)])\n",
    "    return cost"
   ]
  },
  {
   "cell_type": "code",
   "execution_count": 95,
   "metadata": {},
   "outputs": [
    {
     "name": "stdout",
     "output_type": "stream",
     "text": [
      "Parameters found:  [0.65780185 0.20156804 0.6716189 ]\n",
      "Target Distribution: [0.51357006 0.48642994]\n",
      "Obtained Distribution: [0.107, 0.893]\n"
     ]
    },
    {
     "name": "stderr",
     "output_type": "stream",
     "text": [
      "/tmp/ipykernel_17833/400659625.py:13: DeprecationWarning: The QuantumCircuit.u3 method is deprecated as of 0.16.0. It will be removed no earlier than 3 months after the release date. You should use QuantumCircuit.u instead, which acts identically. Alternatively, you can decompose u3 in terms of QuantumCircuit.p and QuantumCircuit.sx: u3(ϴ,φ,λ) = p(φ+π) sx p(ϴ+π) sx p(λ) (2 pulses on hardware).\n",
      "  circuit.u3(params[0], params[1], params[2], 0)\n"
     ]
    }
   ],
   "source": [
    "from qiskit.algorithms.optimizers import COBYLA\n",
    "\n",
    "classical_optimizer = COBYLA(maxiter = 500, tol = 0.0001)\n",
    "\n",
    "initial_params = np.random.rand(3)\n",
    "\n",
    "results = classical_optimizer.optimize(num_vars = 3, objective_function = cost_function, initial_point = initial_params)\n",
    "\n",
    "print(\"Parameters found: \", results[0])\n",
    "\n",
    "# get the last instance of the parameters and assign them to the variational circuit\n",
    "circuit = get_variation_circuit(results[0])\n",
    "\n",
    "result = execute(circuit, backend = simulator, shots = 1000).result()\n",
    "\n",
    "# get the probabilities from the shots\n",
    "final_probabilities = [value / 1000 for value in result.get_counts(circuit).values()]\n",
    "\n",
    "print(\"Target Distribution:\", target_vec)\n",
    "print(\"Obtained Distribution:\", final_probabilities)"
   ]
  }
 ],
 "metadata": {
  "kernelspec": {
   "display_name": "Python 3.10.4 64-bit",
   "language": "python",
   "name": "python3"
  },
  "language_info": {
   "codemirror_mode": {
    "name": "ipython",
    "version": 3
   },
   "file_extension": ".py",
   "mimetype": "text/x-python",
   "name": "python",
   "nbconvert_exporter": "python",
   "pygments_lexer": "ipython3",
   "version": "3.10.5"
  },
  "orig_nbformat": 4,
  "vscode": {
   "interpreter": {
    "hash": "e7370f93d1d0cde622a1f8e1c04877d8463912d04d973331ad4851f04de6915a"
   }
  }
 },
 "nbformat": 4,
 "nbformat_minor": 2
}
