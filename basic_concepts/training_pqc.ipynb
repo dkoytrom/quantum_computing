{
 "cells": [
  {
   "cell_type": "code",
   "execution_count": 36,
   "metadata": {},
   "outputs": [
    {
     "data": {
      "image/png": "[encoded data removed]",
      "text/plain": [
       "<Figure size 267.052x144.48 with 1 Axes>"
      ]
     },
     "execution_count": 36,
     "metadata": {},
     "output_type": "execute_result"
    }
   ],
   "source": [
    "from qiskit.circuit.library import RealAmplitudes\n",
    "\n",
    "# use the parametrized circuit Real amplitudes from qiskit library\n",
    "ansatz = RealAmplitudes(num_qubits = 2, reps = 1, entanglement = 'linear').decompose()\n",
    "\n",
    "ansatz.draw()"
   ]
  },
  {
   "cell_type": "code",
   "execution_count": 37,
   "metadata": {},
   "outputs": [],
   "source": [
    "# after that we need to define a Hamiltonian, we will use H = ZxZ\n",
    "from qiskit.opflow import Z, I\n",
    "\n",
    "hamiltonian = Z ^ Z"
   ]
  },
  {
   "cell_type": "code",
   "execution_count": 38,
   "metadata": {},
   "outputs": [],
   "source": [
    "# we need to compute the expectation value of the quantum state\n",
    "from qiskit.opflow import StateFn, PauliExpectation\n",
    "\n",
    "expectation = StateFn(hamiltonian, is_measurement = True) @ StateFn(ansatz)\n",
    "pauli_basis = PauliExpectation().convert(expectation)"
   ]
  },
  {
   "cell_type": "code",
   "execution_count": 39,
   "metadata": {},
   "outputs": [],
   "source": [
    "# next we simulate the measurement of the expectation value\n",
    "from qiskit import Aer\n",
    "from qiskit.utils import QuantumInstance\n",
    "from qiskit.opflow import CircuitSampler\n",
    "\n",
    "QuantumInstance = QuantumInstance(Aer.get_backend('qasm_simulator'), shots = 8192, seed_simulator = 2717, seed_transpiler = 2718)\n",
    "\n",
    "sampler = CircuitSampler(QuantumInstance)\n",
    "\n",
    "def evaluate_expectation(x):\n",
    "    value_dict = dict(zip(ansatz.parameters, x))\n",
    "    result = sampler.convert(pauli_basis, params = value_dict).eval()\n",
    "    return np.real(result)"
   ]
  },
  {
   "cell_type": "code",
   "execution_count": 40,
   "metadata": {},
   "outputs": [],
   "source": [
    "import numpy as np\n",
    "\n",
    "point = np.random.random(ansatz.num_parameters)\n",
    "index = 2"
   ]
  },
  {
   "cell_type": "code",
   "execution_count": 41,
   "metadata": {},
   "outputs": [
    {
     "name": "stdout",
     "output_type": "stream",
     "text": [
      "-0.5217285156250003\n"
     ]
    }
   ],
   "source": [
    "eps = 0.2\n",
    "\n",
    "e_i = np.identity(point.size)[:, index]\n",
    "\n",
    "plus = point + eps * e_i\n",
    "minus = point - eps * e_i\n",
    "\n",
    "finite_difference = evaluate_expectation(plus) - evaluate_expectation(minus) / (2 * eps)\n",
    "\n",
    "print(finite_difference)"
   ]
  },
  {
   "cell_type": "code",
   "execution_count": 43,
   "metadata": {},
   "outputs": [
    {
     "name": "stdout",
     "output_type": "stream",
     "text": [
      "SummedOp([\n",
      "  2.5 * ComposedOp([\n",
      "    OperatorMeasurement(ZZ),\n",
      "    CircuitStateFn(\n",
      "         ┌──────────┐     ┌────────────────┐\n",
      "    q_0: ┤ Ry(θ[0]) ├──■──┤ Ry(θ[2] + 0.2) ├\n",
      "         ├──────────┤┌─┴─┐└──┬──────────┬──┘\n",
      "    q_1: ┤ Ry(θ[1]) ├┤ X ├───┤ Ry(θ[3]) ├───\n",
      "         └──────────┘└───┘   └──────────┘   \n",
      "    )\n",
      "  ]),\n",
      "  -2.5 * ComposedOp([\n",
      "    OperatorMeasurement(ZZ),\n",
      "    CircuitStateFn(\n",
      "         ┌──────────┐     ┌────────────────┐\n",
      "    q_0: ┤ Ry(θ[0]) ├──■──┤ Ry(θ[2] - 0.2) ├\n",
      "         ├──────────┤┌─┴─┐└──┬──────────┬──┘\n",
      "    q_1: ┤ Ry(θ[1]) ├┤ X ├───┤ Ry(θ[3]) ├───\n",
      "         └──────────┘└───┘   └──────────┘   \n",
      "    )\n",
      "  ])\n",
      "])\n"
     ]
    },
    {
     "data": {
      "text/plain": [
       "0.46508789062499956"
      ]
     },
     "execution_count": 43,
     "metadata": {},
     "output_type": "execute_result"
    }
   ],
   "source": [
    "# we can use qiskit's Gradient class for gradianet descent method\n",
    "from qiskit.opflow import Gradient\n",
    "\n",
    "shifter = Gradient('fin_diff', analytic = False, epsilon = eps)\n",
    "grad = shifter.convert(expectation, params = ansatz.parameters[index])\n",
    "print(grad)\n",
    "\n",
    "value_dict = dict(zip(ansatz.parameters, point))\n",
    "sampler.convert(grad, value_dict).eval().real"
   ]
  }
 ],
 "metadata": {
  "interpreter": {
   "hash": "e7370f93d1d0cde622a1f8e1c04877d8463912d04d973331ad4851f04de6915a"
  },
  "kernelspec": {
   "display_name": "Python 3.9.9 64-bit",
   "language": "python",
   "name": "python3"
  },
  "language_info": {
   "codemirror_mode": {
    "name": "ipython",
    "version": 3
   },
   "file_extension": ".py",
   "mimetype": "text/x-python",
   "name": "python",
   "nbconvert_exporter": "python",
   "pygments_lexer": "ipython3",
   "version": "3.10.3"
  },
  "orig_nbformat": 4
 },
 "nbformat": 4,
 "nbformat_minor": 2
}
